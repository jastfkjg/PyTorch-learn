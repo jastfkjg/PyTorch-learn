{
 "cells": [
  {
   "cell_type": "markdown",
   "metadata": {},
   "source": [
    "## GAN 生成对抗网络"
   ]
  },
  {
   "cell_type": "markdown",
   "metadata": {},
   "source": [
    "生成器（generator）\n",
    "\n",
    "判别器（discriminator）"
   ]
  },
  {
   "cell_type": "code",
   "execution_count": 1,
   "metadata": {},
   "outputs": [],
   "source": [
    "import torch as t\n",
    "from torch import nn"
   ]
  },
  {
   "cell_type": "code",
   "execution_count": 2,
   "metadata": {},
   "outputs": [],
   "source": [
    "class NetG(nn.Module):      #生成器\n",
    "    \n",
    "    def __init__(self, opt):\n",
    "        super(NetG, self).__init__()\n",
    "        ngf = opt.ngf\n",
    "        self.main = nn.Sequential(nn.ConvTranspose2d(opt.nz, ngf*8, 4, 1, 0, bias=False), \n",
    "                                 nn.BatchNorm2d(nfg*8), nn.ReLU(True), \n",
    "                                 nn.ConvTranspose2d(ngf*8, ngf*4, 4, 2, 1, bias=False), \n",
    "                                 nn.BatchNorm2d(ngf*4), nn.ReLU(True),\n",
    "                                 nn.ConvTranspose2d(ngf*4, ngf*2, 4, 2, 1, bias=False), \n",
    "                                 nn.BatchNorm2d(ngf*2), nn.ReLU(True), \n",
    "                                 nn.ConvTranspose2d(ngf*2, ngf, 4, 2, 1, bias=False), \n",
    "                                 nn.BatchNorm2d(ngf), nn.ReLU(True),\n",
    "                                 nn.ConvTranspose2d(ngf, 3, 5, 3, 1, bias=False),\n",
    "                                 nn.Tanh())\n",
    "        \n",
    "    def forward(self, input):\n",
    "        return self.main(input)"
   ]
  },
  {
   "cell_type": "code",
   "execution_count": 3,
   "metadata": {},
   "outputs": [],
   "source": [
    "class NetD(nn.Module):      #判别器\n",
    "    \n",
    "    def __init__(self, opt):\n",
    "        super(NetD, self).__init__()\n",
    "        ndf = opt.ndf\n",
    "        self.main = nn.Sequential(nn.Conv2d(3, ndf, 5, 3, 1, bias=False), nn.LeakyReLU(0.2, inplace=True),\n",
    "                                 nn.Conv2d(ndf, ndf*2, 4, 2, 1, bias=False),\n",
    "                                 nn.BatchNorm2d(ndf*2), nn.LeakyReLU(0.2, inplace=True),\n",
    "                                 nn.Conv2d(ndf*2, ndf*4, 4, 2, 1, bias=False),\n",
    "                                 nn.BatchNorm2d(ndf*4), nn.LeakyReLU(0.2, inplace=True),\n",
    "                                 nn.Conv2d(ndf*4, ndf*8, 4, 2, 1, bias=False),\n",
    "                                 nn.BatchNorm2d(ndf*8), nn.LeakyReLU(0.2, inplace=True),\n",
    "                                 nn.Conv2d(ndf*8, 1, 4, 1, 0, bias=False), nn.Sigmoid())\n",
    "        \n",
    "    def forward(self, input):\n",
    "        return self.main(input).view(-1)"
   ]
  },
  {
   "cell_type": "markdown",
   "metadata": {},
   "source": [
    "## 词向量     RNN"
   ]
  },
  {
   "cell_type": "markdown",
   "metadata": {},
   "source": [
    "nn.Embedding 用来实现词与词向量的映射"
   ]
  },
  {
   "cell_type": "code",
   "execution_count": 4,
   "metadata": {},
   "outputs": [
    {
     "name": "stdout",
     "output_type": "stream",
     "text": [
      "torch.Size([3, 2, 2])\n",
      "tensor([[[-0.6332,  0.7505],\n",
      "         [ 0.6261,  0.1958]],\n",
      "\n",
      "        [[-0.3306, -0.0849],\n",
      "         [ 1.9485, -0.4904]],\n",
      "\n",
      "        [[-0.1517,  1.4358],\n",
      "         [ 0.9623,  0.4776]]], grad_fn=<EmbeddingBackward>)\n"
     ]
    }
   ],
   "source": [
    "embedding = t.nn.Embedding(10, 2)\n",
    "input = t.arange(0, 6).view(3, 2).long()\n",
    "input = t.autograd.Variable(input)\n",
    "output = embedding(input)\n",
    "print(output.size())\n",
    "print(output)"
   ]
  },
  {
   "cell_type": "code",
   "execution_count": null,
   "metadata": {},
   "outputs": [],
   "source": []
  }
 ],
 "metadata": {
  "kernelspec": {
   "display_name": "Python 3",
   "language": "python",
   "name": "python3"
  },
  "language_info": {
   "codemirror_mode": {
    "name": "ipython",
    "version": 3
   },
   "file_extension": ".py",
   "mimetype": "text/x-python",
   "name": "python",
   "nbconvert_exporter": "python",
   "pygments_lexer": "ipython3",
   "version": "3.6.5"
  }
 },
 "nbformat": 4,
 "nbformat_minor": 2
}
