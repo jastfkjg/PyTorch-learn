{
 "cells": [
  {
   "cell_type": "code",
   "execution_count": 7,
   "metadata": {},
   "outputs": [],
   "source": [
    "import numpy as np\n",
    "import math\n",
    "import torch as t\n",
    "import torch.nn as nn\n",
    "import torch.nn.functional as F\n",
    "from torch.autograd import Variable as V\n",
    "\n",
    "\n",
    "HIDDEN1_UNITS = 300\n",
    "HIDDEN2_UNITS = 600\n",
    "\n",
    "class ActorNetwork(nn.Module):\n",
    "    def __init__(self, state_size):\n",
    "        super(ActorNetwork, self).__init__()\n",
    "        self.fc1 = nn.Linear(state_size, HIDDEN1_UNITS)\n",
    "        self.fc2 = nn.Linear(HIDDEN1_UNITS, HIDDEN2_UNITS)\n",
    "        self.steering = nn.Linear(HIDDEN2_UNITS, 1)\n",
    "        self.acceleration = nn.Linear(HIDDEN2_UNITS, 1)\n",
    "        self.brake = nn.Linear(HIDDEN2_UNITS, 1)\n",
    "\n",
    "\n",
    "    def forward(self, x):\n",
    "        x = F.relu(self.fc1(x))\n",
    "        x = F.relu(self.fc2(x))\n",
    "        out1 = t.tanh(self.steering(x))\n",
    "        out2 = t.sigmoid(self.acceleration(x))\n",
    "        out3 = t.sigmoid(self.brake(x))\n",
    "        out = t.cat((out1, out2, out3), 1) \n",
    "        return out\n",
    "    \n",
    "actor = ActorNetwork(10)\n",
    "actor2 = ActorNetwork(10)\n"
   ]
  },
  {
   "cell_type": "code",
   "execution_count": 15,
   "metadata": {},
   "outputs": [
    {
     "name": "stdout",
     "output_type": "stream",
     "text": [
      "tensor([[-0.9183, -0.4509, -0.6074,  ...,  0.5601, -1.0633, -1.1454],\n",
      "        [ 1.1860, -0.4307, -0.3677,  ..., -0.2421,  0.2936, -0.5010],\n",
      "        [ 0.4454,  1.1246,  0.8583,  ..., -0.5812,  0.0857, -0.0927],\n",
      "        ...,\n",
      "        [ 0.4865,  0.7845, -0.8035,  ..., -0.9653, -1.1573,  0.0869],\n",
      "        [-0.5103, -0.1713, -1.4410,  ..., -0.4401,  0.4225, -0.0060],\n",
      "        [-1.1258,  0.0342,  1.0124,  ...,  1.1164,  0.7491, -0.6355]])\n",
      "fc1.weight\n",
      "fc1.bias\n",
      "fc2.weight\n",
      "fc2.bias\n",
      "steering.weight\n",
      "steering.bias\n",
      "acceleration.weight\n",
      "acceleration.bias\n",
      "brake.weight\n",
      "brake.bias\n",
      "tensor([[-1.1547, -0.6094, -0.8215,  ...,  0.6883, -1.2531, -1.4592],\n",
      "        [ 1.4354, -0.5741, -0.5364,  ..., -0.2662,  0.3693, -0.5721],\n",
      "        [ 0.5233,  1.3772,  1.0490,  ..., -0.7111,  0.0681, -0.0543],\n",
      "        ...,\n",
      "        [ 0.6225,  0.9733, -1.0278,  ..., -1.2001, -1.3987,  0.0934],\n",
      "        [-0.6867, -0.1837, -1.7532,  ..., -0.5325,  0.5758, -0.0222],\n",
      "        [-1.3314,  0.0659,  1.2668,  ...,  1.3981,  0.9223, -0.7171]])\n"
     ]
    }
   ],
   "source": [
    "import collections\n",
    "new_actor_state_dict = collections.OrderedDict()\n",
    "print(actor.state_dict()['fc1.weight'])\n",
    "for var_name in actor.state_dict():\n",
    "    print(var_name)\n",
    "    new_actor_state_dict[var_name]=actor.state_dict()[var_name]+actor2.state_dict()[var_name]\n",
    "actor.load_state_dict(new_actor_state_dict)\n",
    "print(actor.state_dict()['fc1.weight'])"
   ]
  },
  {
   "cell_type": "code",
   "execution_count": 33,
   "metadata": {},
   "outputs": [
    {
     "name": "stdout",
     "output_type": "stream",
     "text": [
      "torch.Size([5, 10])\n"
     ]
    },
    {
     "data": {
      "text/plain": [
       "tensor([[1., 1., 1., 1., 1., 1., 1., 1., 1., 1.],\n",
       "        [1., 1., 1., 1., 1., 1., 1., 1., 1., 1.],\n",
       "        [1., 1., 1., 1., 1., 1., 1., 1., 1., 1.],\n",
       "        [1., 1., 1., 1., 1., 1., 1., 1., 1., 1.],\n",
       "        [1., 1., 1., 1., 1., 1., 1., 1., 1., 1.]])"
      ]
     },
     "execution_count": 33,
     "metadata": {},
     "output_type": "execute_result"
    }
   ],
   "source": [
    "input = []\n",
    "for i in range(5):\n",
    "    input.append(np.ones(10))\n",
    "input = t.tensor(input).float()\n",
    "print(input.size())\n",
    "input"
   ]
  },
  {
   "cell_type": "code",
   "execution_count": 34,
   "metadata": {},
   "outputs": [
    {
     "data": {
      "text/plain": [
       "tensor([[0.0426, 0.4669, 0.4985],\n",
       "        [0.0426, 0.4669, 0.4985],\n",
       "        [0.0426, 0.4669, 0.4985],\n",
       "        [0.0426, 0.4669, 0.4985],\n",
       "        [0.0426, 0.4669, 0.4985]])"
      ]
     },
     "execution_count": 34,
     "metadata": {},
     "output_type": "execute_result"
    }
   ],
   "source": [
    "output = actor(input)\n",
    "output.data"
   ]
  },
  {
   "cell_type": "code",
   "execution_count": 9,
   "metadata": {},
   "outputs": [
    {
     "data": {
      "text/plain": [
       "0.021801217"
      ]
     },
     "execution_count": 9,
     "metadata": {},
     "output_type": "execute_result"
    }
   ],
   "source": [
    "a = output.data.numpy()\n",
    "a[0]"
   ]
  },
  {
   "cell_type": "code",
   "execution_count": 18,
   "metadata": {},
   "outputs": [
    {
     "name": "stdout",
     "output_type": "stream",
     "text": [
      "10\n",
      "(10,)\n"
     ]
    },
    {
     "data": {
      "text/plain": [
       "array([[1., 1., 1., 1., 1., 1., 1., 1., 1., 1.]])"
      ]
     },
     "execution_count": 18,
     "metadata": {},
     "output_type": "execute_result"
    }
   ],
   "source": [
    "x = np.ones(10)\n",
    "print(x.shape[0])\n",
    "print(x.shape)\n",
    "y = x.reshape(1, x.shape[0])\n",
    "y"
   ]
  },
  {
   "cell_type": "code",
   "execution_count": 20,
   "metadata": {},
   "outputs": [],
   "source": [
    "x = np.asarray([i for i in range(10)])"
   ]
  },
  {
   "cell_type": "code",
   "execution_count": null,
   "metadata": {},
   "outputs": [],
   "source": []
  }
 ],
 "metadata": {
  "kernelspec": {
   "display_name": "Python 3",
   "language": "python",
   "name": "python3"
  },
  "language_info": {
   "codemirror_mode": {
    "name": "ipython",
    "version": 3
   },
   "file_extension": ".py",
   "mimetype": "text/x-python",
   "name": "python",
   "nbconvert_exporter": "python",
   "pygments_lexer": "ipython3",
   "version": "3.6.5"
  }
 },
 "nbformat": 4,
 "nbformat_minor": 2
}
